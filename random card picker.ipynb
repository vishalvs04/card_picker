{
 "cells": [
  {
   "cell_type": "markdown",
   "id": "e13e375c",
   "metadata": {},
   "source": [
    "# RANDOM CARD PICKER"
   ]
  },
  {
   "cell_type": "markdown",
   "id": "59b17cdb",
   "metadata": {},
   "source": [
    "So to pick a random card from a deck of cards, I will create two Python lists:"
   ]
  },
  {
   "cell_type": "code",
   "execution_count": 1,
   "id": "03874c5a",
   "metadata": {},
   "outputs": [],
   "source": [
    "import random"
   ]
  },
  {
   "cell_type": "code",
   "execution_count": 3,
   "id": "b908b4a2",
   "metadata": {},
   "outputs": [],
   "source": [
    "cards=['Diamond','Spade','Hearts','Club']\n",
    "ranks=[2,3,4,5,6,7,8,9,10,'Jack','Queen','King','Ace']\n",
    "def random_card_pick():\n",
    "    card=random.choices(cards)\n",
    "    rank=random.choice(ranks)\n",
    "    print(\"The\",rank,\"of\",card)"
   ]
  }
 ],
 "metadata": {
  "kernelspec": {
   "display_name": "Python 3 (ipykernel)",
   "language": "python",
   "name": "python3"
  },
  "language_info": {
   "codemirror_mode": {
    "name": "ipython",
    "version": 3
   },
   "file_extension": ".py",
   "mimetype": "text/x-python",
   "name": "python",
   "nbconvert_exporter": "python",
   "pygments_lexer": "ipython3",
   "version": "3.9.7"
  }
 },
 "nbformat": 4,
 "nbformat_minor": 5
}
